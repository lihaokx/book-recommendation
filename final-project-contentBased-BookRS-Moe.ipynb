{
 "cells": [
  {
   "cell_type": "code",
   "execution_count": 1,
   "metadata": {},
   "outputs": [],
   "source": [
    "# Importing necessary libraries\n",
    "import pandas as pd\n",
    "import numpy as np\n",
    "import pandas as pd\n",
    "import numpy as np\n",
    "from nltk.corpus import stopwords\n",
    "from sklearn.metrics.pairwise import linear_kernel\n",
    "from sklearn.feature_extraction.text import CountVectorizer\n",
    "from sklearn.feature_extraction.text import TfidfVectorizer\n",
    "from nltk.tokenize import RegexpTokenizer\n",
    "import re\n",
    "import string\n",
    "import random\n",
    "from PIL import Image\n",
    "import requests\n",
    "from io import BytesIO\n",
    "import matplotlib.pyplot as plt\n",
    "%matplotlib inline\n",
    "import sklearn\n"
   ]
  },
  {
   "cell_type": "markdown",
   "metadata": {},
   "source": [
    "# Reading Data Source"
   ]
  },
  {
   "cell_type": "code",
   "execution_count": 2,
   "metadata": {},
   "outputs": [
    {
     "data": {
      "text/html": [
       "<div>\n",
       "<style scoped>\n",
       "    .dataframe tbody tr th:only-of-type {\n",
       "        vertical-align: middle;\n",
       "    }\n",
       "\n",
       "    .dataframe tbody tr th {\n",
       "        vertical-align: top;\n",
       "    }\n",
       "\n",
       "    .dataframe thead th {\n",
       "        text-align: right;\n",
       "    }\n",
       "</style>\n",
       "<table border=\"1\" class=\"dataframe\">\n",
       "  <thead>\n",
       "    <tr style=\"text-align: right;\">\n",
       "      <th></th>\n",
       "      <th>Unnamed: 0</th>\n",
       "      <th>Desc</th>\n",
       "      <th>Unnamed: 0.1</th>\n",
       "      <th>author</th>\n",
       "      <th>genre</th>\n",
       "      <th>image_link</th>\n",
       "      <th>rating</th>\n",
       "      <th>title</th>\n",
       "    </tr>\n",
       "  </thead>\n",
       "  <tbody>\n",
       "    <tr>\n",
       "      <th>0</th>\n",
       "      <td>0</td>\n",
       "      <td>We know that power is shifting: From West to E...</td>\n",
       "      <td>0.0</td>\n",
       "      <td>Moisés Naím</td>\n",
       "      <td>Business</td>\n",
       "      <td>https://i.gr-assets.com/images/S/compressed.ph...</td>\n",
       "      <td>3.63</td>\n",
       "      <td>The End of Power: From Boardrooms to Battlefie...</td>\n",
       "    </tr>\n",
       "    <tr>\n",
       "      <th>1</th>\n",
       "      <td>1</td>\n",
       "      <td>Following the success of The Accidental Billio...</td>\n",
       "      <td>1.0</td>\n",
       "      <td>Blake J. Harris</td>\n",
       "      <td>Business</td>\n",
       "      <td>https://i.gr-assets.com/images/S/compressed.ph...</td>\n",
       "      <td>3.94</td>\n",
       "      <td>Console Wars: Sega, Nintendo, and the Battle t...</td>\n",
       "    </tr>\n",
       "    <tr>\n",
       "      <th>2</th>\n",
       "      <td>2</td>\n",
       "      <td>How to tap the power of social software and ne...</td>\n",
       "      <td>2.0</td>\n",
       "      <td>Chris Brogan</td>\n",
       "      <td>Business</td>\n",
       "      <td>https://i.gr-assets.com/images/S/compressed.ph...</td>\n",
       "      <td>3.78</td>\n",
       "      <td>Trust Agents: Using the Web to Build Influence...</td>\n",
       "    </tr>\n",
       "    <tr>\n",
       "      <th>3</th>\n",
       "      <td>3</td>\n",
       "      <td>William J. Bernstein is an American financial ...</td>\n",
       "      <td>3.0</td>\n",
       "      <td>William J. Bernstein</td>\n",
       "      <td>Business</td>\n",
       "      <td>https://i.gr-assets.com/images/S/compressed.ph...</td>\n",
       "      <td>4.20</td>\n",
       "      <td>The Four Pillars of Investing</td>\n",
       "    </tr>\n",
       "    <tr>\n",
       "      <th>4</th>\n",
       "      <td>4</td>\n",
       "      <td>Amazing book. And I joined Steve Jobs and many...</td>\n",
       "      <td>4.0</td>\n",
       "      <td>Akio Morita</td>\n",
       "      <td>Business</td>\n",
       "      <td>https://i.gr-assets.com/images/S/compressed.ph...</td>\n",
       "      <td>4.05</td>\n",
       "      <td>Made in Japan: Akio Morita and Sony</td>\n",
       "    </tr>\n",
       "  </tbody>\n",
       "</table>\n",
       "</div>"
      ],
      "text/plain": [
       "   Unnamed: 0                                               Desc  \\\n",
       "0           0  We know that power is shifting: From West to E...   \n",
       "1           1  Following the success of The Accidental Billio...   \n",
       "2           2  How to tap the power of social software and ne...   \n",
       "3           3  William J. Bernstein is an American financial ...   \n",
       "4           4  Amazing book. And I joined Steve Jobs and many...   \n",
       "\n",
       "   Unnamed: 0.1                author     genre  \\\n",
       "0           0.0           Moisés Naím  Business   \n",
       "1           1.0       Blake J. Harris  Business   \n",
       "2           2.0          Chris Brogan  Business   \n",
       "3           3.0  William J. Bernstein  Business   \n",
       "4           4.0           Akio Morita  Business   \n",
       "\n",
       "                                          image_link  rating  \\\n",
       "0  https://i.gr-assets.com/images/S/compressed.ph...    3.63   \n",
       "1  https://i.gr-assets.com/images/S/compressed.ph...    3.94   \n",
       "2  https://i.gr-assets.com/images/S/compressed.ph...    3.78   \n",
       "3  https://i.gr-assets.com/images/S/compressed.ph...    4.20   \n",
       "4  https://i.gr-assets.com/images/S/compressed.ph...    4.05   \n",
       "\n",
       "                                               title  \n",
       "0  The End of Power: From Boardrooms to Battlefie...  \n",
       "1  Console Wars: Sega, Nintendo, and the Battle t...  \n",
       "2  Trust Agents: Using the Web to Build Influence...  \n",
       "3                      The Four Pillars of Investing  \n",
       "4                Made in Japan: Akio Morita and Sony  "
      ]
     },
     "execution_count": 2,
     "metadata": {},
     "output_type": "execute_result"
    }
   ],
   "source": [
    "df = pd.read_csv(\"data.csv\")\n",
    "df.head(5)"
   ]
  },
  {
   "cell_type": "code",
   "execution_count": 3,
   "metadata": {},
   "outputs": [
    {
     "data": {
      "text/plain": [
       "2382"
      ]
     },
     "execution_count": 3,
     "metadata": {},
     "output_type": "execute_result"
    }
   ],
   "source": [
    "len(df.index)"
   ]
  },
  {
   "cell_type": "code",
   "execution_count": 4,
   "metadata": {},
   "outputs": [
    {
     "data": {
      "text/plain": [
       "<matplotlib.axes._subplots.AxesSubplot at 0x1c9a4951130>"
      ]
     },
     "execution_count": 4,
     "metadata": {},
     "output_type": "execute_result"
    },
    {
     "data": {
      "image/png": "[encoded data removed]",
      "text/plain": [
       "<Figure size 720x360 with 1 Axes>"
      ]
     },
     "metadata": {
      "needs_background": "light"
     },
     "output_type": "display_data"
    }
   ],
   "source": [
    "df['genre'].value_counts().plot(x = 'genre', y ='count', kind = 'bar', figsize = (10,5)  )"
   ]
  },
  {
   "cell_type": "code",
   "execution_count": 5,
   "metadata": {},
   "outputs": [
    {
     "data": {
      "text/html": [
       "<div>\n",
       "<style scoped>\n",
       "    .dataframe tbody tr th:only-of-type {\n",
       "        vertical-align: middle;\n",
       "    }\n",
       "\n",
       "    .dataframe tbody tr th {\n",
       "        vertical-align: top;\n",
       "    }\n",
       "\n",
       "    .dataframe thead th {\n",
       "        text-align: right;\n",
       "    }\n",
       "</style>\n",
       "<table border=\"1\" class=\"dataframe\">\n",
       "  <thead>\n",
       "    <tr style=\"text-align: right;\">\n",
       "      <th></th>\n",
       "      <th>Desc</th>\n",
       "      <th>author</th>\n",
       "      <th>genre</th>\n",
       "      <th>image_link</th>\n",
       "      <th>rating</th>\n",
       "      <th>title</th>\n",
       "    </tr>\n",
       "  </thead>\n",
       "  <tbody>\n",
       "    <tr>\n",
       "      <th>0</th>\n",
       "      <td>We know that power is shifting: From West to E...</td>\n",
       "      <td>Moisés Naím</td>\n",
       "      <td>Business</td>\n",
       "      <td>https://i.gr-assets.com/images/S/compressed.ph...</td>\n",
       "      <td>3.63</td>\n",
       "      <td>The End of Power: From Boardrooms to Battlefie...</td>\n",
       "    </tr>\n",
       "    <tr>\n",
       "      <th>1</th>\n",
       "      <td>Following the success of The Accidental Billio...</td>\n",
       "      <td>Blake J. Harris</td>\n",
       "      <td>Business</td>\n",
       "      <td>https://i.gr-assets.com/images/S/compressed.ph...</td>\n",
       "      <td>3.94</td>\n",
       "      <td>Console Wars: Sega, Nintendo, and the Battle t...</td>\n",
       "    </tr>\n",
       "    <tr>\n",
       "      <th>2</th>\n",
       "      <td>How to tap the power of social software and ne...</td>\n",
       "      <td>Chris Brogan</td>\n",
       "      <td>Business</td>\n",
       "      <td>https://i.gr-assets.com/images/S/compressed.ph...</td>\n",
       "      <td>3.78</td>\n",
       "      <td>Trust Agents: Using the Web to Build Influence...</td>\n",
       "    </tr>\n",
       "    <tr>\n",
       "      <th>3</th>\n",
       "      <td>William J. Bernstein is an American financial ...</td>\n",
       "      <td>William J. Bernstein</td>\n",
       "      <td>Business</td>\n",
       "      <td>https://i.gr-assets.com/images/S/compressed.ph...</td>\n",
       "      <td>4.20</td>\n",
       "      <td>The Four Pillars of Investing</td>\n",
       "    </tr>\n",
       "    <tr>\n",
       "      <th>4</th>\n",
       "      <td>Amazing book. And I joined Steve Jobs and many...</td>\n",
       "      <td>Akio Morita</td>\n",
       "      <td>Business</td>\n",
       "      <td>https://i.gr-assets.com/images/S/compressed.ph...</td>\n",
       "      <td>4.05</td>\n",
       "      <td>Made in Japan: Akio Morita and Sony</td>\n",
       "    </tr>\n",
       "  </tbody>\n",
       "</table>\n",
       "</div>"
      ],
      "text/plain": [
       "                                                Desc                author  \\\n",
       "0  We know that power is shifting: From West to E...           Moisés Naím   \n",
       "1  Following the success of The Accidental Billio...       Blake J. Harris   \n",
       "2  How to tap the power of social software and ne...          Chris Brogan   \n",
       "3  William J. Bernstein is an American financial ...  William J. Bernstein   \n",
       "4  Amazing book. And I joined Steve Jobs and many...           Akio Morita   \n",
       "\n",
       "      genre                                         image_link  rating  \\\n",
       "0  Business  https://i.gr-assets.com/images/S/compressed.ph...    3.63   \n",
       "1  Business  https://i.gr-assets.com/images/S/compressed.ph...    3.94   \n",
       "2  Business  https://i.gr-assets.com/images/S/compressed.ph...    3.78   \n",
       "3  Business  https://i.gr-assets.com/images/S/compressed.ph...    4.20   \n",
       "4  Business  https://i.gr-assets.com/images/S/compressed.ph...    4.05   \n",
       "\n",
       "                                               title  \n",
       "0  The End of Power: From Boardrooms to Battlefie...  \n",
       "1  Console Wars: Sega, Nintendo, and the Battle t...  \n",
       "2  Trust Agents: Using the Web to Build Influence...  \n",
       "3                      The Four Pillars of Investing  \n",
       "4                Made in Japan: Akio Morita and Sony  "
      ]
     },
     "execution_count": 5,
     "metadata": {},
     "output_type": "execute_result"
    }
   ],
   "source": [
    "# Removing duplicate books\n",
    "cleaned_df = df['title'].unique()\n",
    "#filter out specific columns\n",
    "cleaned_df = df.loc[:, ['Desc', 'author', 'genre', 'image_link', 'rating', 'title']]\n",
    "cleaned_df.head(5)\n"
   ]
  },
  {
   "cell_type": "code",
   "execution_count": 6,
   "metadata": {},
   "outputs": [
    {
     "data": {
      "text/plain": [
       "Desc          0\n",
       "author        0\n",
       "genre         0\n",
       "image_link    0\n",
       "rating        0\n",
       "title         0\n",
       "dtype: int64"
      ]
     },
     "execution_count": 6,
     "metadata": {},
     "output_type": "execute_result"
    }
   ],
   "source": [
    "cleaned_df.isnull().sum()"
   ]
  },
  {
   "cell_type": "code",
   "execution_count": 7,
   "metadata": {},
   "outputs": [],
   "source": [
    "#remove leading and trailing spaces\n",
    "cleaned_df['Desc'] = cleaned_df['Desc'].str.strip()\n",
    "cleaned_df['author'] = cleaned_df['author'].str.strip()\n",
    "cleaned_df['genre'] = cleaned_df['genre'].str.strip()\n",
    "cleaned_df['image_link'] = cleaned_df['image_link'].str.strip()\n",
    "# cleaned_df['rating'] = cleaned_df['rating'].str.strip()\n",
    "cleaned_df['title'] = cleaned_df['title'].str.strip()"
   ]
  },
  {
   "cell_type": "code",
   "execution_count": 8,
   "metadata": {},
   "outputs": [
    {
     "data": {
      "text/html": [
       "<div>\n",
       "<style scoped>\n",
       "    .dataframe tbody tr th:only-of-type {\n",
       "        vertical-align: middle;\n",
       "    }\n",
       "\n",
       "    .dataframe tbody tr th {\n",
       "        vertical-align: top;\n",
       "    }\n",
       "\n",
       "    .dataframe thead th {\n",
       "        text-align: right;\n",
       "    }\n",
       "</style>\n",
       "<table border=\"1\" class=\"dataframe\">\n",
       "  <thead>\n",
       "    <tr style=\"text-align: right;\">\n",
       "      <th></th>\n",
       "      <th>Desc</th>\n",
       "      <th>author</th>\n",
       "      <th>genre</th>\n",
       "      <th>image_link</th>\n",
       "      <th>rating</th>\n",
       "      <th>title</th>\n",
       "    </tr>\n",
       "  </thead>\n",
       "  <tbody>\n",
       "    <tr>\n",
       "      <th>0</th>\n",
       "      <td>we know that power is shifting: from west to e...</td>\n",
       "      <td>moisés naím</td>\n",
       "      <td>business</td>\n",
       "      <td>https://i.gr-assets.com/images/s/compressed.ph...</td>\n",
       "      <td>3.63</td>\n",
       "      <td>the end of power: from boardrooms to battlefie...</td>\n",
       "    </tr>\n",
       "    <tr>\n",
       "      <th>1</th>\n",
       "      <td>following the success of the accidental billio...</td>\n",
       "      <td>blake j. harris</td>\n",
       "      <td>business</td>\n",
       "      <td>https://i.gr-assets.com/images/s/compressed.ph...</td>\n",
       "      <td>3.94</td>\n",
       "      <td>console wars: sega, nintendo, and the battle t...</td>\n",
       "    </tr>\n",
       "    <tr>\n",
       "      <th>2</th>\n",
       "      <td>how to tap the power of social software and ne...</td>\n",
       "      <td>chris brogan</td>\n",
       "      <td>business</td>\n",
       "      <td>https://i.gr-assets.com/images/s/compressed.ph...</td>\n",
       "      <td>3.78</td>\n",
       "      <td>trust agents: using the web to build influence...</td>\n",
       "    </tr>\n",
       "    <tr>\n",
       "      <th>3</th>\n",
       "      <td>william j. bernstein is an american financial ...</td>\n",
       "      <td>william j. bernstein</td>\n",
       "      <td>business</td>\n",
       "      <td>https://i.gr-assets.com/images/s/compressed.ph...</td>\n",
       "      <td>4.20</td>\n",
       "      <td>the four pillars of investing</td>\n",
       "    </tr>\n",
       "    <tr>\n",
       "      <th>4</th>\n",
       "      <td>amazing book. and i joined steve jobs and many...</td>\n",
       "      <td>akio morita</td>\n",
       "      <td>business</td>\n",
       "      <td>https://i.gr-assets.com/images/s/compressed.ph...</td>\n",
       "      <td>4.05</td>\n",
       "      <td>made in japan: akio morita and sony</td>\n",
       "    </tr>\n",
       "  </tbody>\n",
       "</table>\n",
       "</div>"
      ],
      "text/plain": [
       "                                                Desc                author  \\\n",
       "0  we know that power is shifting: from west to e...           moisés naím   \n",
       "1  following the success of the accidental billio...       blake j. harris   \n",
       "2  how to tap the power of social software and ne...          chris brogan   \n",
       "3  william j. bernstein is an american financial ...  william j. bernstein   \n",
       "4  amazing book. and i joined steve jobs and many...           akio morita   \n",
       "\n",
       "      genre                                         image_link  rating  \\\n",
       "0  business  https://i.gr-assets.com/images/s/compressed.ph...    3.63   \n",
       "1  business  https://i.gr-assets.com/images/s/compressed.ph...    3.94   \n",
       "2  business  https://i.gr-assets.com/images/s/compressed.ph...    3.78   \n",
       "3  business  https://i.gr-assets.com/images/s/compressed.ph...    4.20   \n",
       "4  business  https://i.gr-assets.com/images/s/compressed.ph...    4.05   \n",
       "\n",
       "                                               title  \n",
       "0  the end of power: from boardrooms to battlefie...  \n",
       "1  console wars: sega, nintendo, and the battle t...  \n",
       "2  trust agents: using the web to build influence...  \n",
       "3                      the four pillars of investing  \n",
       "4                made in japan: akio morita and sony  "
      ]
     },
     "execution_count": 8,
     "metadata": {},
     "output_type": "execute_result"
    }
   ],
   "source": [
    "#convert to lowercase\n",
    "cleaned_df['Desc'] = cleaned_df['Desc'].str.lower()\n",
    "cleaned_df['author'] = cleaned_df['author'].str.lower()\n",
    "cleaned_df['genre'] = cleaned_df['genre'].str.lower()\n",
    "cleaned_df['image_link'] = cleaned_df['image_link'].str.lower()\n",
    "# cleaned_df['rating'] = cleaned_df['rating'].str.strip()\n",
    "cleaned_df['title'] = cleaned_df['title'].str.lower()\n",
    "cleaned_df.head(5)"
   ]
  },
  {
   "cell_type": "code",
   "execution_count": 9,
   "metadata": {},
   "outputs": [
    {
     "data": {
      "text/html": [
       "<div>\n",
       "<style scoped>\n",
       "    .dataframe tbody tr th:only-of-type {\n",
       "        vertical-align: middle;\n",
       "    }\n",
       "\n",
       "    .dataframe tbody tr th {\n",
       "        vertical-align: top;\n",
       "    }\n",
       "\n",
       "    .dataframe thead th {\n",
       "        text-align: right;\n",
       "    }\n",
       "</style>\n",
       "<table border=\"1\" class=\"dataframe\">\n",
       "  <thead>\n",
       "    <tr style=\"text-align: right;\">\n",
       "      <th></th>\n",
       "      <th>Desc</th>\n",
       "      <th>author</th>\n",
       "      <th>genre</th>\n",
       "      <th>image_link</th>\n",
       "      <th>rating</th>\n",
       "      <th>title</th>\n",
       "    </tr>\n",
       "  </thead>\n",
       "  <tbody>\n",
       "    <tr>\n",
       "      <th>0</th>\n",
       "      <td>We know that power is shifting: From West to E...</td>\n",
       "      <td>moisés naím</td>\n",
       "      <td>business</td>\n",
       "      <td>https://i.gr-assets.com/images/s/compressed.ph...</td>\n",
       "      <td>3.63</td>\n",
       "      <td>the end of power: from boardrooms to battlefie...</td>\n",
       "    </tr>\n",
       "    <tr>\n",
       "      <th>1</th>\n",
       "      <td>Following the success of The Accidental Billio...</td>\n",
       "      <td>blake j. harris</td>\n",
       "      <td>business</td>\n",
       "      <td>https://i.gr-assets.com/images/s/compressed.ph...</td>\n",
       "      <td>3.94</td>\n",
       "      <td>console wars: sega, nintendo, and the battle t...</td>\n",
       "    </tr>\n",
       "    <tr>\n",
       "      <th>2</th>\n",
       "      <td>How to tap the power of social software and ne...</td>\n",
       "      <td>chris brogan</td>\n",
       "      <td>business</td>\n",
       "      <td>https://i.gr-assets.com/images/s/compressed.ph...</td>\n",
       "      <td>3.78</td>\n",
       "      <td>trust agents: using the web to build influence...</td>\n",
       "    </tr>\n",
       "    <tr>\n",
       "      <th>3</th>\n",
       "      <td>William J. Bernstein is an American financial ...</td>\n",
       "      <td>william j. bernstein</td>\n",
       "      <td>business</td>\n",
       "      <td>https://i.gr-assets.com/images/s/compressed.ph...</td>\n",
       "      <td>4.20</td>\n",
       "      <td>the four pillars of investing</td>\n",
       "    </tr>\n",
       "    <tr>\n",
       "      <th>4</th>\n",
       "      <td>Amazing book. And I joined Steve Jobs and many...</td>\n",
       "      <td>akio morita</td>\n",
       "      <td>business</td>\n",
       "      <td>https://i.gr-assets.com/images/s/compressed.ph...</td>\n",
       "      <td>4.05</td>\n",
       "      <td>made in japan: akio morita and sony</td>\n",
       "    </tr>\n",
       "  </tbody>\n",
       "</table>\n",
       "</div>"
      ],
      "text/plain": [
       "                                                Desc                author  \\\n",
       "0  We know that power is shifting: From West to E...           moisés naím   \n",
       "1  Following the success of The Accidental Billio...       blake j. harris   \n",
       "2  How to tap the power of social software and ne...          chris brogan   \n",
       "3  William J. Bernstein is an American financial ...  william j. bernstein   \n",
       "4  Amazing book. And I joined Steve Jobs and many...           akio morita   \n",
       "\n",
       "      genre                                         image_link  rating  \\\n",
       "0  business  https://i.gr-assets.com/images/s/compressed.ph...    3.63   \n",
       "1  business  https://i.gr-assets.com/images/s/compressed.ph...    3.94   \n",
       "2  business  https://i.gr-assets.com/images/s/compressed.ph...    3.78   \n",
       "3  business  https://i.gr-assets.com/images/s/compressed.ph...    4.20   \n",
       "4  business  https://i.gr-assets.com/images/s/compressed.ph...    4.05   \n",
       "\n",
       "                                               title  \n",
       "0  the end of power: from boardrooms to battlefie...  \n",
       "1  console wars: sega, nintendo, and the battle t...  \n",
       "2  trust agents: using the web to build influence...  \n",
       "3                      the four pillars of investing  \n",
       "4                made in japan: akio morita and sony  "
      ]
     },
     "execution_count": 9,
     "metadata": {},
     "output_type": "execute_result"
    }
   ],
   "source": [
    "# Function for removing NonAscii characters\n",
    "def _removeNonAscii(s):\n",
    "    return \"\".join(i for i in s if  ord(i)<128)\n",
    "\n",
    "# Function for removing stop words\n",
    "def remove_stop_words(text):\n",
    "    text = text.split()\n",
    "    stops = set(stopwords.words(\"english\"))\n",
    "    text = [w for w in text if not w in stops]\n",
    "    text = \" \".join(text)\n",
    "    return text\n",
    "#Function for removing the html tags\n",
    "def remove_html(text):\n",
    "    html_pattern = re.compile('<.*?>')\n",
    "    return html_pattern.sub(r'', text)\n",
    "\n",
    "cleaned_df['Desc'] = df.Desc.apply(_removeNonAscii)\n",
    "cleaned_df['Desc'] = df.Desc.apply(func = remove_stop_words)\n",
    "cleaned_df['Desc'] = df.Desc.apply(func = remove_html)\n",
    "cleaned_df.head(5)"
   ]
  },
  {
   "cell_type": "code",
   "execution_count": 12,
   "metadata": {},
   "outputs": [
    {
     "data": {
      "text/plain": [
       "TfidfVectorizer(analyzer='word', binary=False, decode_error='strict',\n",
       "                dtype=<class 'numpy.float64'>, encoding='utf-8',\n",
       "                input='content', lowercase=True, max_df=1.0, max_features=None,\n",
       "                min_df=5, ngram_range=(1, 3), norm='l2', preprocessor=None,\n",
       "                smooth_idf=True, stop_words='english', strip_accents=None,\n",
       "                sublinear_tf=False, token_pattern='(?u)\\\\b\\\\w\\\\w+\\\\b',\n",
       "                tokenizer=None, use_idf=True, vocabulary=None)"
      ]
     },
     "execution_count": 12,
     "metadata": {},
     "output_type": "execute_result"
    }
   ],
   "source": [
    "from sklearn.metrics.pairwise import cosine_similarity\n",
    "# vectorizer = TfidfVectorizer(analyzer='word', ngram_range=(2, 2), min_df = 1, stop_words='english')\n",
    "\n",
    "vectorizer = TfidfVectorizer(analyzer='word', ngram_range=(1, 3), min_df = 5, stop_words='english')\n",
    "# tfidf_matrix = vectorizer.fit_transform(cleaned_df['Desc'])\n",
    "tfidf_matrix = vectorizer.fit(cleaned_df['Desc'])\n",
    "tfidf_matrix"
   ]
  },
  {
   "cell_type": "code",
   "execution_count": null,
   "metadata": {},
   "outputs": [],
   "source": [
    "cosine_sim = cosine_similarity(tfidf_matrix, tfidf_matrix)\n",
    "pd.DataFrame(cosine_sim)"
   ]
  },
  {
   "cell_type": "code",
   "execution_count": 136,
   "metadata": {},
   "outputs": [],
   "source": [
    "# books = df[['title', 'image_link']]\n",
    "# indices = pd.Series(cleaned_df.index, index = cleaned_df['title']).drop_duplicates()\n",
    "# # indices = pd.Series(data.index, index = data['title'])\n",
    "# idx = indices[title]\n",
    "# #indices.head(5)"
   ]
  },
  {
   "cell_type": "code",
   "execution_count": 16,
   "metadata": {},
   "outputs": [
    {
     "data": {
      "text/plain": [
       "True"
      ]
     },
     "execution_count": 16,
     "metadata": {},
     "output_type": "execute_result"
    }
   ],
   "source": [
    "#get the book name\n",
    "book_title = \"How to Master the Art of Selling\"\n",
    "book_title = book_title.lower()\n",
    "#check if book exits and it is unique\n",
    "book_title in cleaned_df['title'].unique()"
   ]
  },
  {
   "cell_type": "code",
   "execution_count": 17,
   "metadata": {},
   "outputs": [
    {
     "data": {
      "text/plain": [
       "60"
      ]
     },
     "execution_count": 17,
     "metadata": {},
     "output_type": "execute_result"
    }
   ],
   "source": [
    "#get the index value of the book in data dataframe\n",
    "book_index = cleaned_df.loc[cleaned_df['title'] == book_title].index[0]\n",
    "book_index"
   ]
  },
  {
   "cell_type": "code",
   "execution_count": 18,
   "metadata": {},
   "outputs": [
    {
     "name": "stdout",
     "output_type": "stream",
     "text": [
      "List of top 5 recommended books in decreasing similarity order\n"
     ]
    },
    {
     "data": {
      "text/plain": [
       "[(712, 0.253057568503188),\n",
       " (990, 0.1870636974010201),\n",
       " (289, 0.180564218763853),\n",
       " (190, 0.17821831837989272),\n",
       " (238, 0.16964475559770612)]"
      ]
     },
     "execution_count": 18,
     "metadata": {},
     "output_type": "execute_result"
    }
   ],
   "source": [
    "#get the similarity score for this particular book\n",
    "sim = cosine_sim[book_index]\n",
    "sim_lst = list(enumerate(cosine_sim[book_index]))\n",
    "# sorting this list in decreasing order based on the similarity score\n",
    "sim_lst = sorted(sim_lst, key = lambda x:x[1] ,reverse=True)\n",
    "# removing the first index since it is the same book\n",
    "sim_lst = sim_lst[1:6]\n",
    "print(\"List of top 5 recommended books in decreasing similarity order\")\n",
    "sim_lst\n"
   ]
  },
  {
   "cell_type": "code",
   "execution_count": 19,
   "metadata": {},
   "outputs": [],
   "source": [
    "# sotre all 5 book recommendations in a list\n",
    "rec_list = []\n",
    "# print(\"Top 5 Recommended Books:\\n\")\n",
    "for i in range(len(sim_lst)):\n",
    "    a = sim_lst[i][0]\n",
    "    rec_list.append(cleaned_df['title'][a])\n",
    "#     print(cleaned_df['title'][a] + '\\n')\n",
    "    \n",
    "\n"
   ]
  },
  {
   "cell_type": "code",
   "execution_count": 20,
   "metadata": {},
   "outputs": [
    {
     "name": "stdout",
     "output_type": "stream",
     "text": [
      "                                                  Desc        author  \\\n",
      "323  Lawrence Cunningham, who goes by Larry, has pu...  alex banayan   \n",
      "\n",
      "        genre                                         image_link  rating  \\\n",
      "323  business  https://i.gr-assets.com/images/s/compressed.ph...    4.27   \n",
      "\n",
      "                                                 title  \n",
      "323  the third door: the wild quest to uncover how ...  \n"
     ]
    }
   ],
   "source": [
    "# printing the details of a similar book - Example\n",
    "print(cleaned_df.loc[[323]])"
   ]
  },
  {
   "cell_type": "markdown",
   "metadata": {},
   "source": [
    "# Top-5 Recommendations"
   ]
  },
  {
   "cell_type": "code",
   "execution_count": 21,
   "metadata": {},
   "outputs": [
    {
     "data": {
      "text/html": [
       "<div>\n",
       "<style scoped>\n",
       "    .dataframe tbody tr th:only-of-type {\n",
       "        vertical-align: middle;\n",
       "    }\n",
       "\n",
       "    .dataframe tbody tr th {\n",
       "        vertical-align: top;\n",
       "    }\n",
       "\n",
       "    .dataframe thead th {\n",
       "        text-align: right;\n",
       "    }\n",
       "</style>\n",
       "<table border=\"1\" class=\"dataframe\">\n",
       "  <thead>\n",
       "    <tr style=\"text-align: right;\">\n",
       "      <th></th>\n",
       "      <th>Desc</th>\n",
       "      <th>author</th>\n",
       "      <th>genre</th>\n",
       "      <th>image_link</th>\n",
       "      <th>rating</th>\n",
       "      <th>title</th>\n",
       "    </tr>\n",
       "  </thead>\n",
       "  <tbody>\n",
       "    <tr>\n",
       "      <th>190</th>\n",
       "      <td>In YOU, INC. Beckwith provides practical tips,...</td>\n",
       "      <td>jack d. schwager</td>\n",
       "      <td>business</td>\n",
       "      <td>https://i.gr-assets.com/images/s/compressed.ph...</td>\n",
       "      <td>4.22</td>\n",
       "      <td>market wizards</td>\n",
       "    </tr>\n",
       "    <tr>\n",
       "      <th>238</th>\n",
       "      <td>Write Well to Sell Big!In the age of e-mail an...</td>\n",
       "      <td>kevin freiberg</td>\n",
       "      <td>business</td>\n",
       "      <td>https://i.gr-assets.com/images/s/compressed.ph...</td>\n",
       "      <td>3.91</td>\n",
       "      <td>nuts!</td>\n",
       "    </tr>\n",
       "    <tr>\n",
       "      <th>289</th>\n",
       "      <td>The Book That Sparked A Selling Revolution In ...</td>\n",
       "      <td>al ries</td>\n",
       "      <td>business</td>\n",
       "      <td>https://i.gr-assets.com/images/s/compressed.ph...</td>\n",
       "      <td>4.05</td>\n",
       "      <td>focus: the future of your company depends on it</td>\n",
       "    </tr>\n",
       "    <tr>\n",
       "      <th>712</th>\n",
       "      <td>The international bestseller that revolutioniz...</td>\n",
       "      <td>neil rackham</td>\n",
       "      <td>business</td>\n",
       "      <td>https://i.gr-assets.com/images/s/compressed.ph...</td>\n",
       "      <td>3.98</td>\n",
       "      <td>spin selling: situation problem implication ne...</td>\n",
       "    </tr>\n",
       "    <tr>\n",
       "      <th>990</th>\n",
       "      <td>The ability to sell others is as critical to y...</td>\n",
       "      <td>clayton m. christensen</td>\n",
       "      <td>business</td>\n",
       "      <td>https://i.gr-assets.com/images/s/compressed.ph...</td>\n",
       "      <td>4.02</td>\n",
       "      <td>hbr's 10 must reads on managing yourself (with...</td>\n",
       "    </tr>\n",
       "  </tbody>\n",
       "</table>\n",
       "</div>"
      ],
      "text/plain": [
       "                                                  Desc  \\\n",
       "190  In YOU, INC. Beckwith provides practical tips,...   \n",
       "238  Write Well to Sell Big!In the age of e-mail an...   \n",
       "289  The Book That Sparked A Selling Revolution In ...   \n",
       "712  The international bestseller that revolutioniz...   \n",
       "990  The ability to sell others is as critical to y...   \n",
       "\n",
       "                     author     genre  \\\n",
       "190        jack d. schwager  business   \n",
       "238          kevin freiberg  business   \n",
       "289                 al ries  business   \n",
       "712            neil rackham  business   \n",
       "990  clayton m. christensen  business   \n",
       "\n",
       "                                            image_link  rating  \\\n",
       "190  https://i.gr-assets.com/images/s/compressed.ph...    4.22   \n",
       "238  https://i.gr-assets.com/images/s/compressed.ph...    3.91   \n",
       "289  https://i.gr-assets.com/images/s/compressed.ph...    4.05   \n",
       "712  https://i.gr-assets.com/images/s/compressed.ph...    3.98   \n",
       "990  https://i.gr-assets.com/images/s/compressed.ph...    4.02   \n",
       "\n",
       "                                                 title  \n",
       "190                                     market wizards  \n",
       "238                                              nuts!  \n",
       "289    focus: the future of your company depends on it  \n",
       "712  spin selling: situation problem implication ne...  \n",
       "990  hbr's 10 must reads on managing yourself (with...  "
      ]
     },
     "execution_count": 21,
     "metadata": {},
     "output_type": "execute_result"
    }
   ],
   "source": [
    "cleaned_df[cleaned_df['title'].isin(rec_list)]"
   ]
  },
  {
   "cell_type": "code",
   "execution_count": null,
   "metadata": {},
   "outputs": [],
   "source": []
  },
  {
   "cell_type": "code",
   "execution_count": null,
   "metadata": {},
   "outputs": [],
   "source": []
  }
 ],
 "metadata": {
  "kernelspec": {
   "display_name": "Python 3",
   "language": "python",
   "name": "python3"
  },
  "language_info": {
   "codemirror_mode": {
    "name": "ipython",
    "version": 3
   },
   "file_extension": ".py",
   "mimetype": "text/x-python",
   "name": "python",
   "nbconvert_exporter": "python",
   "pygments_lexer": "ipython3",
   "version": "3.8.3"
  }
 },
 "nbformat": 4,
 "nbformat_minor": 4
}
